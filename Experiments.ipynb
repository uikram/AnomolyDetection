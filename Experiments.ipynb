{
 "cells": [
  {
   "cell_type": "code",
   "execution_count": 1,
   "metadata": {},
   "outputs": [],
   "source": [
    "import pandas as pd\n",
    "from sklearn.ensemble import IsolationForest\n",
    "import math\n",
    "import os\n",
    "import plotly.graph_objects as go"
   ]
  },
  {
   "cell_type": "markdown",
   "metadata": {},
   "source": [
    "### Experiment 1\n",
    "- Default Parameters\n",
    "- Normal Distribution"
   ]
  },
  {
   "cell_type": "code",
   "execution_count": 2,
   "metadata": {},
   "outputs": [
    {
     "name": "stdout",
     "output_type": "stream",
     "text": [
      "----------- EMA2233M10017_model_response.csv complete -----------\n",
      "----------- EMA2233M10024_model_response.csv complete -----------\n",
      "----------- EMA2233M10035_model_response.csv complete -----------\n",
      "----------- EMA2233M10100_model_response.csv complete -----------\n",
      "----------- EMA2233M10102_model_response.csv complete -----------\n",
      "----------- EMA2233M10103_model_response.csv complete -----------\n",
      "----------- EMA2303M10302_model_response.csv complete -----------\n"
     ]
    }
   ],
   "source": [
    "# Define the folder containing the files\n",
    "folder_path = 'normal_data_labelled/'\n",
    "result_path = 'if_results_normal_default_parameters'\n",
    "# Create a folder to store the results if it doesn't exist\n",
    "if not os.path.exists(result_path):\n",
    "    os.makedirs(result_path)\n",
    "\n",
    "# Iterate over each file in the folder\n",
    "for filename in os.listdir(folder_path):\n",
    "    if filename.endswith('.csv'):\n",
    "        # Read the CSV file into a DataFrame\n",
    "        df = pd.read_csv(os.path.join(folder_path, filename))\n",
    "        # Drop NaN values and select relevant columns\n",
    "        df = df.dropna(subset=['cycle_time'])\n",
    "        df = df[['shot_time','COUNTER_ID', 'cycle_time','shot_id']]\n",
    "        df['cycle_time'] = df['cycle_time'].apply(math.floor)\n",
    "        \n",
    "        # Fit Isolation Forest model\n",
    "        data = ['cycle_time']\n",
    "        if_model = IsolationForest(contamination='auto', random_state=42)\n",
    "        if_model.fit(df[data])\n",
    "        \n",
    "        # Calculate anomaly scores\n",
    "        df['anomoly_score'] = if_model.decision_function(df[data])\n",
    "        df['anomoly_score_inverse'] = if_model.score_samples(df[data])\n",
    "        df['anomoly_score_inverse'] = df['anomoly_score_inverse'] + 1\n",
    "        # Predict anomalies and assign anomaly scores\n",
    "        df['output'] = if_model.predict(df[data])\n",
    "        df['output'] = df['output'].apply(lambda x: 0 if x == -1 else 1)\n",
    "        df['output'] = 1 - df['output']\n",
    "\n",
    "        # Save the results in a new CSV file\n",
    "        result_filename = os.path.join(result_path, filename)\n",
    "        df.to_csv(result_filename, index=False)\n",
    "        print(f\"----------- {filename} complete -----------\")\n"
   ]
  },
  {
   "cell_type": "markdown",
   "metadata": {},
   "source": [
    "### Experiment 2\n",
    "- Default Parameters\n",
    "- Anomalous Distribution"
   ]
  },
  {
   "cell_type": "code",
   "execution_count": 3,
   "metadata": {},
   "outputs": [
    {
     "name": "stdout",
     "output_type": "stream",
     "text": [
      "----------- all_combined_EMA2233M10295.csv complete -----------\n",
      "----------- all_combined_EMA2233M10296.csv complete -----------\n",
      "----------- all_combined_EMA2233M10297.csv complete -----------\n",
      "----------- all_combined_EMA2233M10300.csv complete -----------\n",
      "----------- all_combined_EMA2233M10302.csv complete -----------\n",
      "----------- all_combined_EMA2233M10303.csv complete -----------\n",
      "----------- all_combined_EMA2233M10304.csv complete -----------\n",
      "----------- all_combined_EMA2233M10305.csv complete -----------\n",
      "----------- all_combined_EMA2233M10308.csv complete -----------\n"
     ]
    }
   ],
   "source": [
    "# Define the folder containing the files\n",
    "folder_path = 'anomalous_data_labelled/'\n",
    "result_path = 'if_results_anomalous_default_parameters'\n",
    "# Create a folder to store the results if it doesn't exist\n",
    "if not os.path.exists(result_path):\n",
    "    os.makedirs(result_path)\n",
    "\n",
    "# Iterate over each file in the folder\n",
    "for filename in os.listdir(folder_path):\n",
    "    if filename.endswith('.csv'):\n",
    "        # Read the CSV file into a DataFrame\n",
    "        df = pd.read_csv(os.path.join(folder_path, filename))\n",
    "        # Drop NaN values and select relevant columns\n",
    "        df = df.dropna(subset=['cycle_time'])\n",
    "        df = df[['shot_time','COUNTER_ID', 'cycle_time','shot_id']]\n",
    "\n",
    "        df['cycle_time'] = df['cycle_time'].apply(math.floor)\n",
    "        \n",
    "        # Fit Isolation Forest model\n",
    "        data = ['cycle_time']\n",
    "        if_model = IsolationForest(contamination='auto', random_state=42)\n",
    "        if_model.fit(df[data])\n",
    "        \n",
    "        # Calculate anomaly scores\n",
    "        df['anomoly_score'] = if_model.decision_function(df[data])\n",
    "        df['anomoly_score_inverse'] = if_model.score_samples(df[data])\n",
    "        df['anomoly_score_inverse'] = df['anomoly_score_inverse'] + 1\n",
    "        # Predict anomalies and assign anomaly scores\n",
    "        df['output'] = if_model.predict(df[data])\n",
    "        df['output'] = df['output'].apply(lambda x: 0 if x == -1 else 1)\n",
    "        df['output'] = 1 - df['output']\n",
    "\n",
    "        # Save the results in a new CSV file\n",
    "        result_filename = os.path.join(result_path, filename)\n",
    "        df.to_csv(result_filename, index=False)\n",
    "        print(f\"----------- {filename} complete -----------\")\n"
   ]
  },
  {
   "cell_type": "markdown",
   "metadata": {},
   "source": [
    "### Experiment 3\n",
    "- Fine Tuned Parameters - {'bootstrap': True, 'contamination': 'auto', 'max_features': 1.0, 'max_samples': 0.4, 'n_estimators': 100, 'warm_start': True}\n",
    "- Normal Distribution"
   ]
  },
  {
   "cell_type": "code",
   "execution_count": 4,
   "metadata": {},
   "outputs": [
    {
     "name": "stdout",
     "output_type": "stream",
     "text": [
      "----------- EMA2233M10017_model_response.csv complete -----------\n",
      "----------- EMA2233M10024_model_response.csv complete -----------\n",
      "----------- EMA2233M10035_model_response.csv complete -----------\n",
      "----------- EMA2233M10100_model_response.csv complete -----------\n",
      "----------- EMA2233M10102_model_response.csv complete -----------\n",
      "----------- EMA2233M10103_model_response.csv complete -----------\n",
      "----------- EMA2303M10302_model_response.csv complete -----------\n"
     ]
    }
   ],
   "source": [
    "# Define the folder containing the files\n",
    "folder_path = 'normal_data_labelled/'\n",
    "result_path = 'if_results_normal_tuned_parameters'\n",
    "# Create a folder to store the results if it doesn't exist\n",
    "if not os.path.exists(result_path):\n",
    "    os.makedirs(result_path)\n",
    "\n",
    "# Iterate over each file in the folder\n",
    "for filename in os.listdir(folder_path):\n",
    "    if filename.endswith('.csv'):\n",
    "        # Read the CSV file into a DataFrame\n",
    "        df = pd.read_csv(os.path.join(folder_path, filename))\n",
    "        # Drop NaN values and select relevant columns\n",
    "        df = df.dropna(subset=['cycle_time'])\n",
    "        df = df[['shot_time','COUNTER_ID', 'cycle_time','shot_id']]\n",
    "        df['cycle_time'] = df['cycle_time'].apply(math.floor)\n",
    "        \n",
    "        # Fit Isolation Forest model\n",
    "        data = ['cycle_time']\n",
    "        if_model = IsolationForest(bootstrap=True,contamination='auto',  max_features=1.0, max_samples = 0.4, n_estimators=100, random_state=42, warm_start=True)\n",
    "        if_model.fit(df[data])\n",
    "        \n",
    "        # Calculate anomaly scores\n",
    "        df['anomoly_score'] = if_model.decision_function(df[data])\n",
    "        df['anomoly_score_inverse'] = if_model.score_samples(df[data])\n",
    "        df['anomoly_score_inverse'] = df['anomoly_score_inverse'] + 1\n",
    "        # Predict anomalies and assign anomaly scores\n",
    "        df['output'] = if_model.predict(df[data])\n",
    "        df['output'] = df['output'].apply(lambda x: 0 if x == -1 else 1)\n",
    "        df['output'] = 1 - df['output']\n",
    "\n",
    "        # Save the results in a new CSV file\n",
    "        result_filename = os.path.join(result_path, filename)\n",
    "        df.to_csv(result_filename, index=False)\n",
    "        print(f\"----------- {filename} complete -----------\")\n"
   ]
  },
  {
   "cell_type": "markdown",
   "metadata": {},
   "source": [
    "### Experiment 4\n",
    "- Fine Tuned Parameters - {'bootstrap': True, 'contamination': 'auto', 'max_features': 1.0, 'max_samples': 0.1, 'n_estimators': 50, 'warm_start': True}\n",
    "- Anomalous Distribution"
   ]
  },
  {
   "cell_type": "code",
   "execution_count": 5,
   "metadata": {},
   "outputs": [
    {
     "name": "stdout",
     "output_type": "stream",
     "text": [
      "----------- all_combined_EMA2233M10295.csv complete -----------\n",
      "----------- all_combined_EMA2233M10296.csv complete -----------\n",
      "----------- all_combined_EMA2233M10297.csv complete -----------\n",
      "----------- all_combined_EMA2233M10300.csv complete -----------\n",
      "----------- all_combined_EMA2233M10302.csv complete -----------\n",
      "----------- all_combined_EMA2233M10303.csv complete -----------\n",
      "----------- all_combined_EMA2233M10304.csv complete -----------\n",
      "----------- all_combined_EMA2233M10305.csv complete -----------\n",
      "----------- all_combined_EMA2233M10308.csv complete -----------\n"
     ]
    }
   ],
   "source": [
    "# Define the folder containing the files\n",
    "folder_path = 'anomalous_data_labelled/'\n",
    "result_path = 'if_results_anomolaus_tuned_parameters'\n",
    "# Create a folder to store the results if it doesn't exist\n",
    "if not os.path.exists(result_path):\n",
    "    os.makedirs(result_path)\n",
    "\n",
    "# Iterate over each file in the folder\n",
    "for filename in os.listdir(folder_path):\n",
    "    if filename.endswith('.csv'):\n",
    "        # Read the CSV file into a DataFrame\n",
    "        df = pd.read_csv(os.path.join(folder_path, filename))\n",
    "        # Drop NaN values and select relevant columns\n",
    "        df = df.dropna(subset=['cycle_time'])\n",
    "        df = df[['shot_time','COUNTER_ID', 'cycle_time','shot_id']]\n",
    "        df['cycle_time'] = df['cycle_time'].apply(math.floor)\n",
    "        \n",
    "        # Fit Isolation Forest model\n",
    "        data = ['cycle_time']\n",
    "        if_model = IsolationForest(bootstrap=True,contamination='auto',  max_features=1.0, max_samples = 0.1, n_estimators=50, random_state=42, warm_start=True)\n",
    "        if_model.fit(df[data])\n",
    "        \n",
    "        # Calculate anomaly scores\n",
    "        df['anomoly_score'] = if_model.decision_function(df[data])\n",
    "        df['anomoly_score_inverse'] = if_model.score_samples(df[data])\n",
    "        df['anomoly_score_inverse'] = df['anomoly_score_inverse'] + 1\n",
    "        # Predict anomalies and assign anomaly scores\n",
    "        df['output'] = if_model.predict(df[data])\n",
    "        df['output'] = df['output'].apply(lambda x: 0 if x == -1 else 1)\n",
    "        df['output'] = 1 - df['output']\n",
    "\n",
    "        # Save the results in a new CSV file\n",
    "        result_filename = os.path.join(result_path, filename)\n",
    "        df.to_csv(result_filename, index=False)\n",
    "        print(f\"----------- {filename} complete -----------\")"
   ]
  },
  {
   "cell_type": "markdown",
   "metadata": {},
   "source": [
    "### Experiment 5\n",
    "- Fine Tuned Parameters - {'bootstrap': False, 'contamination': 0.1, 'max_features': 0.1, 'max_samples': 0.3, 'n_estimators': 50, 'warm_start': True}\n",
    "- Anomalous Distribution"
   ]
  },
  {
   "cell_type": "code",
   "execution_count": 6,
   "metadata": {},
   "outputs": [
    {
     "name": "stdout",
     "output_type": "stream",
     "text": [
      "Processing ---- anomalous_data_labelled\n",
      "140235\n",
      "Processing ---- normal_data_labelled\n",
      "162747\n",
      "----------- combined_fine_tuned_result.csv complete -----------\n"
     ]
    },
    {
     "data": {
      "text/plain": [
       "(162747, 7)"
      ]
     },
     "execution_count": 6,
     "metadata": {},
     "output_type": "execute_result"
    }
   ],
   "source": [
    "# Define the folder containing the files\n",
    "folder_path = ['anomalous_data_labelled/','normal_data_labelled/']\n",
    "result_path = 'if_results_combined_data_tuned_parameters'\n",
    "# Create a folder to store the results if it doesn't exist\n",
    "if not os.path.exists(result_path):\n",
    "    os.makedirs(result_path)\n",
    "size = 0\n",
    "combined_df = pd.DataFrame()\n",
    "for path in folder_path:\n",
    "    print('Processing ----', path[:-1])\n",
    "    for filename in os.listdir(path):\n",
    "        if filename.endswith('.csv'):\n",
    "            # Read the CSV file into a DataFrame\n",
    "            data = pd.read_csv(os.path.join(path, filename))\n",
    "            # Drop NaN values and select relevant columns\n",
    "            data = data.dropna(subset=['cycle_time'])\n",
    "            data = data[['shot_time', 'COUNTER_ID', 'cycle_time','shot_id']]\n",
    "            data['cycle_time'] = data['cycle_time'].apply(math.floor)\n",
    "            combined_df = pd.concat([combined_df, data])  # Concatenate current data with existing\n",
    "            size = size + data.shape[0]\n",
    "    print(size)\n",
    "\n",
    "     \n",
    "# Fit Isolation Forest model\n",
    "data = ['cycle_time']\n",
    "if_model = IsolationForest(bootstrap=False,contamination=0.1,  max_features=0.1, max_samples = 0.3, n_estimators=50, random_state=42, warm_start=True)\n",
    "if_model.fit(combined_df[data])\n",
    "\n",
    "# Calculate anomaly scores\n",
    "combined_df['anomoly_score'] = if_model.decision_function(combined_df[data])\n",
    "combined_df['anomoly_score_inverse'] = if_model.score_samples(combined_df[data])\n",
    "combined_df['anomoly_score_inverse'] = combined_df['anomoly_score_inverse'] + 1\n",
    "# Predict anomalies and assign anomaly scores\n",
    "combined_df['output'] = if_model.predict(combined_df[data])\n",
    "combined_df['output'] = combined_df['output'].apply(lambda x: 0 if x == -1 else 1)\n",
    "combined_df['output'] = 1 - combined_df['output']\n",
    "\n",
    "# Save the results in a new CSV file\n",
    "filename = 'combined_fine_tuned_result.csv'\n",
    "result_filename = os.path.join(result_path, filename)\n",
    "combined_df.to_csv(result_filename, index=False)\n",
    "print(f\"----------- {filename} complete -----------\")\n",
    "combined_df.shape"
   ]
  }
 ],
 "metadata": {
  "kernelspec": {
   "display_name": "ai_st",
   "language": "python",
   "name": "python3"
  },
  "language_info": {
   "codemirror_mode": {
    "name": "ipython",
    "version": 3
   },
   "file_extension": ".py",
   "mimetype": "text/x-python",
   "name": "python",
   "nbconvert_exporter": "python",
   "pygments_lexer": "ipython3",
   "version": "3.10.13"
  }
 },
 "nbformat": 4,
 "nbformat_minor": 2
}
